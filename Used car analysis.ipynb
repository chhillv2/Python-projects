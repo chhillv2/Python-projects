{
 "cells": [
  {
   "cell_type": "code",
   "execution_count": 1,
   "metadata": {
    "collapsed": true
   },
   "outputs": [],
   "source": [
    "import pandas as pd\n",
    "\n",
    "import matplotlib.pyplot as plt\n",
    "import numpy as np\n",
    "from sklearn import datasets, linear_model, preprocessing, svm\n",
    "from sklearn.preprocessing import StandardScaler, Normalizer\n",
    "import math\n",
    "import matplotlib\n",
    "import seaborn as sns"
   ]
  },
  {
   "cell_type": "code",
   "execution_count": 2,
   "metadata": {
    "collapsed": true
   },
   "outputs": [],
   "source": [
    "def category_values(dataframe, categories):\n",
    "    for c in categories:\n",
    "        print('\\n', dataframe.groupby(by=c)[c].count().sort_values(ascending=False))\n",
    "        print('Nulls: ', dataframe[c].isnull().sum())\n",
    "\n",
    "def plot_correlation_map( df ):\n",
    "    corr = df.corr()\n",
    "    _ , ax = plt.subplots( figsize =( 12 , 10 ) )\n",
    "    cmap = sns.diverging_palette( 220 , 10 , as_cmap = True )\n",
    "    _ = sns.heatmap(\n",
    "        corr, \n",
    "        cmap = cmap,\n",
    "        square=True, \n",
    "        cbar_kws={ 'shrink' : .9 }, \n",
    "        ax=ax, \n",
    "        annot = True, \n",
    "        annot_kws = { 'fontsize' : 12 }\n",
    "    )"
   ]
  },
  {
   "cell_type": "code",
   "execution_count": 3,
   "metadata": {
    "collapsed": true
   },
   "outputs": [],
   "source": [
    "df = pd.read_csv('/Users/vikaschhillar/Downloads/used-cars-database/autos.csv', sep=',', header=0, encoding='cp1252')"
   ]
  },
  {
   "cell_type": "code",
   "execution_count": 4,
   "metadata": {
    "collapsed": false
   },
   "outputs": [
    {
     "data": {
      "text/html": [
       "<div>\n",
       "<table border=\"1\" class=\"dataframe\">\n",
       "  <thead>\n",
       "    <tr style=\"text-align: right;\">\n",
       "      <th></th>\n",
       "      <th>dateCrawled</th>\n",
       "      <th>name</th>\n",
       "      <th>seller</th>\n",
       "      <th>offerType</th>\n",
       "      <th>price</th>\n",
       "      <th>abtest</th>\n",
       "      <th>vehicleType</th>\n",
       "      <th>yearOfRegistration</th>\n",
       "      <th>gearbox</th>\n",
       "      <th>powerPS</th>\n",
       "      <th>model</th>\n",
       "      <th>kilometer</th>\n",
       "      <th>monthOfRegistration</th>\n",
       "      <th>fuelType</th>\n",
       "      <th>brand</th>\n",
       "      <th>notRepairedDamage</th>\n",
       "      <th>dateCreated</th>\n",
       "      <th>nrOfPictures</th>\n",
       "      <th>postalCode</th>\n",
       "      <th>lastSeen</th>\n",
       "    </tr>\n",
       "  </thead>\n",
       "  <tbody>\n",
       "    <tr>\n",
       "      <th>189138</th>\n",
       "      <td>2016-04-07 01:36:33</td>\n",
       "      <td>Mercedes_Benz_C_180_Sport</td>\n",
       "      <td>privat</td>\n",
       "      <td>Angebot</td>\n",
       "      <td>1399</td>\n",
       "      <td>control</td>\n",
       "      <td>limousine</td>\n",
       "      <td>1998</td>\n",
       "      <td>manuell</td>\n",
       "      <td>122</td>\n",
       "      <td>c_klasse</td>\n",
       "      <td>150000</td>\n",
       "      <td>6</td>\n",
       "      <td>benzin</td>\n",
       "      <td>mercedes_benz</td>\n",
       "      <td>nein</td>\n",
       "      <td>2016-04-07 00:00:00</td>\n",
       "      <td>0</td>\n",
       "      <td>51103</td>\n",
       "      <td>2016-04-07 01:36:33</td>\n",
       "    </tr>\n",
       "    <tr>\n",
       "      <th>335646</th>\n",
       "      <td>2016-03-27 14:53:55</td>\n",
       "      <td>BMW_BMW_318i_Cabrio_M_Paket_aussen_Vollleder_S...</td>\n",
       "      <td>privat</td>\n",
       "      <td>Angebot</td>\n",
       "      <td>2590</td>\n",
       "      <td>control</td>\n",
       "      <td>cabrio</td>\n",
       "      <td>1994</td>\n",
       "      <td>manuell</td>\n",
       "      <td>116</td>\n",
       "      <td>3er</td>\n",
       "      <td>150000</td>\n",
       "      <td>10</td>\n",
       "      <td>benzin</td>\n",
       "      <td>bmw</td>\n",
       "      <td>nein</td>\n",
       "      <td>2016-03-27 00:00:00</td>\n",
       "      <td>0</td>\n",
       "      <td>66333</td>\n",
       "      <td>2016-04-07 11:45:14</td>\n",
       "    </tr>\n",
       "    <tr>\n",
       "      <th>139503</th>\n",
       "      <td>2016-03-12 17:42:31</td>\n",
       "      <td>Audi_80_90_Ps</td>\n",
       "      <td>privat</td>\n",
       "      <td>Angebot</td>\n",
       "      <td>350</td>\n",
       "      <td>test</td>\n",
       "      <td>limousine</td>\n",
       "      <td>1989</td>\n",
       "      <td>manuell</td>\n",
       "      <td>90</td>\n",
       "      <td>80</td>\n",
       "      <td>5000</td>\n",
       "      <td>6</td>\n",
       "      <td>benzin</td>\n",
       "      <td>audi</td>\n",
       "      <td>ja</td>\n",
       "      <td>2016-03-12 00:00:00</td>\n",
       "      <td>0</td>\n",
       "      <td>15345</td>\n",
       "      <td>2016-03-17 20:19:36</td>\n",
       "    </tr>\n",
       "    <tr>\n",
       "      <th>275564</th>\n",
       "      <td>2016-03-30 12:56:53</td>\n",
       "      <td>Trabant_601_S_Universal_aus_Erstbesitz_Trabbi_...</td>\n",
       "      <td>privat</td>\n",
       "      <td>Angebot</td>\n",
       "      <td>490</td>\n",
       "      <td>control</td>\n",
       "      <td>kombi</td>\n",
       "      <td>1983</td>\n",
       "      <td>manuell</td>\n",
       "      <td>26</td>\n",
       "      <td>601</td>\n",
       "      <td>30000</td>\n",
       "      <td>0</td>\n",
       "      <td>benzin</td>\n",
       "      <td>trabant</td>\n",
       "      <td>NaN</td>\n",
       "      <td>2016-03-30 00:00:00</td>\n",
       "      <td>0</td>\n",
       "      <td>15537</td>\n",
       "      <td>2016-04-07 04:15:47</td>\n",
       "    </tr>\n",
       "    <tr>\n",
       "      <th>60457</th>\n",
       "      <td>2016-03-19 18:46:35</td>\n",
       "      <td>Audi_80_Avant_2.0_E</td>\n",
       "      <td>privat</td>\n",
       "      <td>Angebot</td>\n",
       "      <td>1599</td>\n",
       "      <td>test</td>\n",
       "      <td>kombi</td>\n",
       "      <td>1993</td>\n",
       "      <td>manuell</td>\n",
       "      <td>116</td>\n",
       "      <td>80</td>\n",
       "      <td>150000</td>\n",
       "      <td>3</td>\n",
       "      <td>benzin</td>\n",
       "      <td>audi</td>\n",
       "      <td>nein</td>\n",
       "      <td>2016-03-19 00:00:00</td>\n",
       "      <td>0</td>\n",
       "      <td>82467</td>\n",
       "      <td>2016-04-07 05:46:45</td>\n",
       "    </tr>\n",
       "    <tr>\n",
       "      <th>236118</th>\n",
       "      <td>2016-03-06 23:37:03</td>\n",
       "      <td>Mercedes_Benz_CL_600</td>\n",
       "      <td>privat</td>\n",
       "      <td>Angebot</td>\n",
       "      <td>8700</td>\n",
       "      <td>control</td>\n",
       "      <td>coupe</td>\n",
       "      <td>2001</td>\n",
       "      <td>automatik</td>\n",
       "      <td>367</td>\n",
       "      <td>cl</td>\n",
       "      <td>150000</td>\n",
       "      <td>8</td>\n",
       "      <td>benzin</td>\n",
       "      <td>mercedes_benz</td>\n",
       "      <td>nein</td>\n",
       "      <td>2016-03-06 00:00:00</td>\n",
       "      <td>0</td>\n",
       "      <td>85084</td>\n",
       "      <td>2016-04-07 07:17:18</td>\n",
       "    </tr>\n",
       "    <tr>\n",
       "      <th>228377</th>\n",
       "      <td>2016-03-05 14:46:00</td>\n",
       "      <td>BMW_530d_Touring</td>\n",
       "      <td>privat</td>\n",
       "      <td>Angebot</td>\n",
       "      <td>7400</td>\n",
       "      <td>control</td>\n",
       "      <td>kombi</td>\n",
       "      <td>2005</td>\n",
       "      <td>automatik</td>\n",
       "      <td>218</td>\n",
       "      <td>5er</td>\n",
       "      <td>150000</td>\n",
       "      <td>5</td>\n",
       "      <td>diesel</td>\n",
       "      <td>bmw</td>\n",
       "      <td>nein</td>\n",
       "      <td>2016-03-05 00:00:00</td>\n",
       "      <td>0</td>\n",
       "      <td>24809</td>\n",
       "      <td>2016-03-10 13:47:16</td>\n",
       "    </tr>\n",
       "    <tr>\n",
       "      <th>94049</th>\n",
       "      <td>2016-03-30 12:58:02</td>\n",
       "      <td>Golf_III_zu_verkaufen</td>\n",
       "      <td>privat</td>\n",
       "      <td>Angebot</td>\n",
       "      <td>800</td>\n",
       "      <td>control</td>\n",
       "      <td>limousine</td>\n",
       "      <td>1997</td>\n",
       "      <td>manuell</td>\n",
       "      <td>0</td>\n",
       "      <td>golf</td>\n",
       "      <td>150000</td>\n",
       "      <td>2</td>\n",
       "      <td>benzin</td>\n",
       "      <td>volkswagen</td>\n",
       "      <td>nein</td>\n",
       "      <td>2016-03-30 00:00:00</td>\n",
       "      <td>0</td>\n",
       "      <td>24118</td>\n",
       "      <td>2016-04-07 04:15:50</td>\n",
       "    </tr>\n",
       "    <tr>\n",
       "      <th>361903</th>\n",
       "      <td>2016-04-04 10:51:52</td>\n",
       "      <td>Mercedes_Benz_C_180_CGI_BE_APS50__BlueEFFICIENCY_</td>\n",
       "      <td>privat</td>\n",
       "      <td>Angebot</td>\n",
       "      <td>13400</td>\n",
       "      <td>control</td>\n",
       "      <td>limousine</td>\n",
       "      <td>2010</td>\n",
       "      <td>manuell</td>\n",
       "      <td>156</td>\n",
       "      <td>c_klasse</td>\n",
       "      <td>90000</td>\n",
       "      <td>10</td>\n",
       "      <td>benzin</td>\n",
       "      <td>mercedes_benz</td>\n",
       "      <td>nein</td>\n",
       "      <td>2016-04-04 00:00:00</td>\n",
       "      <td>0</td>\n",
       "      <td>54439</td>\n",
       "      <td>2016-04-06 12:44:18</td>\n",
       "    </tr>\n",
       "    <tr>\n",
       "      <th>188574</th>\n",
       "      <td>2016-03-06 14:43:29</td>\n",
       "      <td>Opel_Astra_G_CC_2_2_L_16_V_lesen_!!</td>\n",
       "      <td>privat</td>\n",
       "      <td>Angebot</td>\n",
       "      <td>1600</td>\n",
       "      <td>control</td>\n",
       "      <td>kleinwagen</td>\n",
       "      <td>2002</td>\n",
       "      <td>manuell</td>\n",
       "      <td>147</td>\n",
       "      <td>astra</td>\n",
       "      <td>150000</td>\n",
       "      <td>12</td>\n",
       "      <td>benzin</td>\n",
       "      <td>opel</td>\n",
       "      <td>NaN</td>\n",
       "      <td>2016-03-06 00:00:00</td>\n",
       "      <td>0</td>\n",
       "      <td>66113</td>\n",
       "      <td>2016-03-07 13:47:51</td>\n",
       "    </tr>\n",
       "  </tbody>\n",
       "</table>\n",
       "</div>"
      ],
      "text/plain": [
       "                dateCrawled  \\\n",
       "189138  2016-04-07 01:36:33   \n",
       "335646  2016-03-27 14:53:55   \n",
       "139503  2016-03-12 17:42:31   \n",
       "275564  2016-03-30 12:56:53   \n",
       "60457   2016-03-19 18:46:35   \n",
       "236118  2016-03-06 23:37:03   \n",
       "228377  2016-03-05 14:46:00   \n",
       "94049   2016-03-30 12:58:02   \n",
       "361903  2016-04-04 10:51:52   \n",
       "188574  2016-03-06 14:43:29   \n",
       "\n",
       "                                                     name  seller offerType  \\\n",
       "189138                          Mercedes_Benz_C_180_Sport  privat   Angebot   \n",
       "335646  BMW_BMW_318i_Cabrio_M_Paket_aussen_Vollleder_S...  privat   Angebot   \n",
       "139503                                      Audi_80_90_Ps  privat   Angebot   \n",
       "275564  Trabant_601_S_Universal_aus_Erstbesitz_Trabbi_...  privat   Angebot   \n",
       "60457                                 Audi_80_Avant_2.0_E  privat   Angebot   \n",
       "236118                               Mercedes_Benz_CL_600  privat   Angebot   \n",
       "228377                                   BMW_530d_Touring  privat   Angebot   \n",
       "94049                               Golf_III_zu_verkaufen  privat   Angebot   \n",
       "361903  Mercedes_Benz_C_180_CGI_BE_APS50__BlueEFFICIENCY_  privat   Angebot   \n",
       "188574                Opel_Astra_G_CC_2_2_L_16_V_lesen_!!  privat   Angebot   \n",
       "\n",
       "        price   abtest vehicleType  yearOfRegistration    gearbox  powerPS  \\\n",
       "189138   1399  control   limousine                1998    manuell      122   \n",
       "335646   2590  control      cabrio                1994    manuell      116   \n",
       "139503    350     test   limousine                1989    manuell       90   \n",
       "275564    490  control       kombi                1983    manuell       26   \n",
       "60457    1599     test       kombi                1993    manuell      116   \n",
       "236118   8700  control       coupe                2001  automatik      367   \n",
       "228377   7400  control       kombi                2005  automatik      218   \n",
       "94049     800  control   limousine                1997    manuell        0   \n",
       "361903  13400  control   limousine                2010    manuell      156   \n",
       "188574   1600  control  kleinwagen                2002    manuell      147   \n",
       "\n",
       "           model  kilometer  monthOfRegistration fuelType          brand  \\\n",
       "189138  c_klasse     150000                    6   benzin  mercedes_benz   \n",
       "335646       3er     150000                   10   benzin            bmw   \n",
       "139503        80       5000                    6   benzin           audi   \n",
       "275564       601      30000                    0   benzin        trabant   \n",
       "60457         80     150000                    3   benzin           audi   \n",
       "236118        cl     150000                    8   benzin  mercedes_benz   \n",
       "228377       5er     150000                    5   diesel            bmw   \n",
       "94049       golf     150000                    2   benzin     volkswagen   \n",
       "361903  c_klasse      90000                   10   benzin  mercedes_benz   \n",
       "188574     astra     150000                   12   benzin           opel   \n",
       "\n",
       "       notRepairedDamage          dateCreated  nrOfPictures  postalCode  \\\n",
       "189138              nein  2016-04-07 00:00:00             0       51103   \n",
       "335646              nein  2016-03-27 00:00:00             0       66333   \n",
       "139503                ja  2016-03-12 00:00:00             0       15345   \n",
       "275564               NaN  2016-03-30 00:00:00             0       15537   \n",
       "60457               nein  2016-03-19 00:00:00             0       82467   \n",
       "236118              nein  2016-03-06 00:00:00             0       85084   \n",
       "228377              nein  2016-03-05 00:00:00             0       24809   \n",
       "94049               nein  2016-03-30 00:00:00             0       24118   \n",
       "361903              nein  2016-04-04 00:00:00             0       54439   \n",
       "188574               NaN  2016-03-06 00:00:00             0       66113   \n",
       "\n",
       "                   lastSeen  \n",
       "189138  2016-04-07 01:36:33  \n",
       "335646  2016-04-07 11:45:14  \n",
       "139503  2016-03-17 20:19:36  \n",
       "275564  2016-04-07 04:15:47  \n",
       "60457   2016-04-07 05:46:45  \n",
       "236118  2016-04-07 07:17:18  \n",
       "228377  2016-03-10 13:47:16  \n",
       "94049   2016-04-07 04:15:50  \n",
       "361903  2016-04-06 12:44:18  \n",
       "188574  2016-03-07 13:47:51  "
      ]
     },
     "execution_count": 4,
     "metadata": {},
     "output_type": "execute_result"
    }
   ],
   "source": [
    "df.sample(10)"
   ]
  },
  {
   "cell_type": "code",
   "execution_count": 5,
   "metadata": {
    "collapsed": false
   },
   "outputs": [
    {
     "name": "stdout",
     "output_type": "stream",
     "text": [
      "['privat' 'gewerblich']\n",
      "['Angebot' 'Gesuch']\n",
      "['test' 'control']\n",
      "[0]\n"
     ]
    }
   ],
   "source": [
    "print(df.seller.unique())\n",
    "print(df.offerType.unique())\n",
    "print(df.abtest.unique())\n",
    "print(df.nrOfPictures.unique())\n"
   ]
  },
  {
   "cell_type": "code",
   "execution_count": 6,
   "metadata": {
    "collapsed": true
   },
   "outputs": [],
   "source": [
    "df.drop(['seller', 'offerType', 'abtest', 'dateCrawled', 'nrOfPictures', 'lastSeen', 'postalCode', 'dateCreated'], axis='columns', inplace=True)"
   ]
  },
  {
   "cell_type": "code",
   "execution_count": 26,
   "metadata": {
    "collapsed": false
   },
   "outputs": [
    {
     "name": "stdout",
     "output_type": "stream",
     "text": [
      "new cars: 24539\n",
      "old cars: 1739\n",
      "cheap cars: 14732\n",
      "expensive cars:  250\n",
      "too few km:  7069\n",
      "Too many km:  0\n",
      "Too few PS:  41040\n",
      "Too many PS:  598\n",
      "Fuel types:  ['benzin' 'diesel' nan 'lpg' 'andere' 'hybrid' 'cng' 'elektro']\n",
      "Damages:  [nan 'ja' 'nein']\n",
      "Vehicle types:  [nan 'coupe' 'suv' 'kleinwagen' 'limousine' 'cabrio' 'bus' 'kombi' 'andere']\n",
      "Brands:  ['volkswagen' 'audi' 'jeep' 'skoda' 'bmw' 'peugeot' 'ford' 'mazda' 'nissan'\n",
      " 'renault' 'mercedes_benz' 'opel' 'seat' 'citroen' 'honda' 'fiat' 'mini'\n",
      " 'smart' 'hyundai' 'sonstige_autos' 'alfa_romeo' 'subaru' 'volvo'\n",
      " 'mitsubishi' 'kia' 'suzuki' 'lancia' 'porsche' 'toyota' 'chevrolet'\n",
      " 'dacia' 'daihatsu' 'trabant' 'saab' 'chrysler' 'jaguar' 'daewoo' 'rover'\n",
      " 'land_rover' 'lada']\n",
      "-----------------\n",
      "Data kept for analisys: 81 percent of the entire set\n",
      "-----------------\n"
     ]
    }
   ],
   "source": [
    "print(\"new cars: %d\" % df.loc[df.yearOfRegistration >= 2016].count()['name'])\n",
    "print(\"old cars: %d\" % df.loc[df.yearOfRegistration < 1970].count()['name'])\n",
    "print(\"cheap cars: %d\" % df.loc[df.price < 130].count()['name'])\n",
    "print(\"expensive cars: \" , df.loc[df.price > 140000].count()['name'])\n",
    "print(\"too few km: \" , df.loc[df.kilometer < 6000].count()['name'])\n",
    "print(\"Too many km: \" , df.loc[df.kilometer > 200050].count()['name'])\n",
    "print(\"Too few PS: \" , df.loc[df.powerPS < 10].count()['name'])\n",
    "print(\"Too many PS: \" , df.loc[df.powerPS > 550].count()['name'])\n",
    "print(\"Fuel types: \" , df['fuelType'].unique())\n",
    "#print(\"Offer types: \" , df['offerType'].unique())\n",
    "#print(\"Sellers: \" , df['seller'].unique())\n",
    "print(\"Damages: \" , df['notRepairedDamage'].unique())\n",
    "#print(\"Pics: \" , df['nrOfPictures'].unique()) # nrOfPictures : number of pictures in the ad (unfortunately this field contains everywhere a 0 and is thus useless (bug in crawler!) )\n",
    "#print(\"Postale codes: \" , df['postalCode'].unique())\n",
    "print(\"Vehicle types: \" , df['vehicleType'].unique())\n",
    "print(\"Brands: \" , df['brand'].unique())\n",
    "\n",
    "# Cleaning data\n",
    "#valid_models = df.dropna()\n",
    "\n",
    "#### Removing the duplicates\n",
    "dedups = df.drop_duplicates(['name','price','vehicleType','yearOfRegistration'\n",
    "                         ,'gearbox','powerPS','model','kilometer','monthOfRegistration','fuelType'\n",
    "                         ,'notRepairedDamage'])\n",
    "\n",
    "#### Removing the outliers\n",
    "dedups = dedups[\n",
    "        (dedups.yearOfRegistration <= 2016) \n",
    "      & (dedups.yearOfRegistration >= 1950) \n",
    "      & (dedups.price >= 100) \n",
    "      & (dedups.price <= 150000) \n",
    "      & (dedups.powerPS >= 10) \n",
    "      & (dedups.powerPS <= 500)]\n",
    "\n",
    "print(\"-----------------\\nData kept for analisys: %d percent of the entire set\\n-----------------\" % (100 * dedups['name'].count() / df['name'].count()))"
   ]
  },
  {
   "cell_type": "code",
   "execution_count": null,
   "metadata": {
    "collapsed": true
   },
   "outputs": [],
   "source": []
  },
  {
   "cell_type": "code",
   "execution_count": null,
   "metadata": {
    "collapsed": true
   },
   "outputs": [],
   "source": []
  },
  {
   "cell_type": "code",
   "execution_count": 27,
   "metadata": {
    "collapsed": false
   },
   "outputs": [
    {
     "data": {
      "text/plain": [
       "name                       0\n",
       "price                      0\n",
       "vehicleType            10818\n",
       "yearOfRegistration         0\n",
       "gearbox                 5260\n",
       "powerPS                    0\n",
       "model                  11347\n",
       "kilometer                  0\n",
       "monthOfRegistration        0\n",
       "fuelType               15400\n",
       "brand                      0\n",
       "notRepairedDamage      42124\n",
       "dtype: int64"
      ]
     },
     "execution_count": 27,
     "metadata": {},
     "output_type": "execute_result"
    }
   ],
   "source": [
    "dedups.isnull().sum()"
   ]
  },
  {
   "cell_type": "code",
   "execution_count": null,
   "metadata": {
    "collapsed": true
   },
   "outputs": [],
   "source": []
  },
  {
   "cell_type": "code",
   "execution_count": null,
   "metadata": {
    "collapsed": true
   },
   "outputs": [],
   "source": []
  },
  {
   "cell_type": "code",
   "execution_count": 29,
   "metadata": {
    "collapsed": true
   },
   "outputs": [],
   "source": [
    "dedups['notRepairedDamage'].fillna(value='not-declared', inplace=True)\n",
    "dedups['fuelType'].fillna(value='not-declared', inplace=True)\n",
    "dedups['gearbox'].fillna(value='not-declared', inplace=True)\n",
    "dedups['vehicleType'].fillna(value='not-declared', inplace=True)\n",
    "dedups['model'].fillna(value='not-declared', inplace=True)\n"
   ]
  },
  {
   "cell_type": "code",
   "execution_count": null,
   "metadata": {
    "collapsed": true
   },
   "outputs": [],
   "source": []
  },
  {
   "cell_type": "code",
   "execution_count": 30,
   "metadata": {
    "collapsed": false
   },
   "outputs": [
    {
     "data": {
      "text/plain": [
       "name                   0\n",
       "price                  0\n",
       "vehicleType            0\n",
       "yearOfRegistration     0\n",
       "gearbox                0\n",
       "powerPS                0\n",
       "model                  0\n",
       "kilometer              0\n",
       "monthOfRegistration    0\n",
       "fuelType               0\n",
       "brand                  0\n",
       "notRepairedDamage      0\n",
       "dtype: int64"
      ]
     },
     "execution_count": 30,
     "metadata": {},
     "output_type": "execute_result"
    }
   ],
   "source": [
    "dedups.isnull().sum()\n"
   ]
  },
  {
   "cell_type": "code",
   "execution_count": null,
   "metadata": {
    "collapsed": true
   },
   "outputs": [],
   "source": []
  },
  {
   "cell_type": "code",
   "execution_count": null,
   "metadata": {
    "collapsed": true
   },
   "outputs": [],
   "source": []
  },
  {
   "cell_type": "code",
   "execution_count": 34,
   "metadata": {
    "collapsed": false
   },
   "outputs": [
    {
     "name": "stdout",
     "output_type": "stream",
     "text": [
      "gearbox\n",
      "manuell         231997\n",
      "automatik        66876\n",
      "not-declared      5260\n",
      "Name: gearbox, dtype: int64\n"
     ]
    },
    {
     "data": {
      "image/png": "[encoded data removed]",
      "text/plain": [
       "<matplotlib.figure.Figure at 0x10d0dd908>"
      ]
     },
     "metadata": {},
     "output_type": "display_data"
    },
    {
     "name": "stdout",
     "output_type": "stream",
     "text": [
      "model\n",
      "golf            24846\n",
      "andere          21733\n",
      "3er             17704\n",
      "not-declared    11347\n",
      "polo            10477\n",
      "Name: model, dtype: int64\n"
     ]
    },
    {
     "data": {
      "image/png": "[encoded data removed]",
      "text/plain": [
       "<matplotlib.figure.Figure at 0x11b3183c8>"
      ]
     },
     "metadata": {},
     "output_type": "display_data"
    },
    {
     "name": "stdout",
     "output_type": "stream",
     "text": [
      "brand\n",
      "volkswagen       64853\n",
      "bmw              34441\n",
      "opel             31757\n",
      "mercedes_benz    29562\n",
      "audi             27984\n",
      "Name: brand, dtype: int64\n"
     ]
    },
    {
     "data": {
      "image/png": "[encoded data removed]",
      "text/plain": [
       "<matplotlib.figure.Figure at 0x119710978>"
      ]
     },
     "metadata": {},
     "output_type": "display_data"
    },
    {
     "name": "stdout",
     "output_type": "stream",
     "text": [
      "vehicleType\n",
      "limousine     84843\n",
      "kleinwagen    68415\n",
      "kombi         59863\n",
      "bus           26986\n",
      "cabrio        20921\n",
      "Name: vehicleType, dtype: int64\n"
     ]
    },
    {
     "data": {
      "image/png": "[encoded data removed]",
      "text/plain": [
       "<matplotlib.figure.Figure at 0x11ee54908>"
      ]
     },
     "metadata": {},
     "output_type": "display_data"
    },
    {
     "name": "stdout",
     "output_type": "stream",
     "text": [
      "fuelType\n",
      "benzin          189919\n",
      "diesel           93299\n",
      "not-declared     15400\n",
      "lpg               4646\n",
      "cng                474\n",
      "Name: fuelType, dtype: int64\n"
     ]
    },
    {
     "data": {
      "image/png": "[encoded data removed]",
      "text/plain": [
       "<matplotlib.figure.Figure at 0x11b210be0>"
      ]
     },
     "metadata": {},
     "output_type": "display_data"
    },
    {
     "name": "stdout",
     "output_type": "stream",
     "text": [
      "notRepairedDamage\n",
      "nein            233684\n",
      "not-declared     42124\n",
      "ja               28325\n",
      "Name: notRepairedDamage, dtype: int64\n"
     ]
    },
    {
     "data": {
      "image/png": "[encoded data removed]",
      "text/plain": [
       "<matplotlib.figure.Figure at 0x11b1835c0>"
      ]
     },
     "metadata": {},
     "output_type": "display_data"
    }
   ],
   "source": [
    "categories = ['gearbox', 'model', 'brand', 'vehicleType', 'fuelType', 'notRepairedDamage']\n",
    "\n",
    "for i, c in enumerate(categories):\n",
    "    v = dedups[c].unique()\n",
    "    \n",
    "    g = dedups.groupby(by=c)[c].count().sort_values(ascending=False)\n",
    "    r = range(min(len(v), 5))\n",
    "\n",
    "    print( g.head())\n",
    "    plt.figure(figsize=(5,3))\n",
    "    plt.bar(r, g.head()) \n",
    "    #plt.xticks(r, v)\n",
    "    plt.xticks(r, g.index)\n",
    "    plt.show()"
   ]
  },
  {
   "cell_type": "code",
   "execution_count": null,
   "metadata": {
    "collapsed": true
   },
   "outputs": [],
   "source": []
  },
  {
   "cell_type": "code",
   "execution_count": null,
   "metadata": {
    "collapsed": true
   },
   "outputs": [],
   "source": []
  },
  {
   "cell_type": "code",
   "execution_count": null,
   "metadata": {
    "collapsed": true
   },
   "outputs": [],
   "source": []
  },
  {
   "cell_type": "code",
   "execution_count": null,
   "metadata": {
    "collapsed": true
   },
   "outputs": [],
   "source": []
  },
  {
   "cell_type": "code",
   "execution_count": 12,
   "metadata": {
    "collapsed": true
   },
   "outputs": [],
   "source": [
    "dedups['namelen'] = [min(70, len(n)) for n in dedups['name']]\n",
    "\n",
    "ax = sns.jointplot(x='namelen', \n",
    "                   y='price',\n",
    "                   data=dedups[['namelen','price']], \n",
    "#                   data=dedups[['namelen','price']][dedups['model']=='golf'], \n",
    "                    alpha=0.1, \n",
    "                    size=8)"
   ]
  },
  {
   "cell_type": "code",
   "execution_count": 13,
   "metadata": {
    "collapsed": true
   },
   "outputs": [],
   "source": [
    "labels = ['name', 'gearbox', 'notRepairedDamage', 'model', 'brand', 'fuelType', 'vehicleType']\n",
    "les = {}\n",
    "\n",
    "for l in labels:\n",
    "    les[l] = preprocessing.LabelEncoder()\n",
    "    les[l].fit(dedups[l])\n",
    "    tr = les[l].transform(dedups[l]) \n",
    "    dedups.loc[:, l + '_feat'] = pd.Series(tr, index=dedups.index)\n",
    "\n",
    "labeled = dedups[ ['price'\n",
    "                        ,'yearOfRegistration'\n",
    "                        ,'powerPS'\n",
    "                        ,'kilometer'\n",
    "                        ,'monthOfRegistration'\n",
    "                        , 'namelen'] \n",
    "                    + [x+\"_feat\" for x in labels]]"
   ]
  },
  {
   "cell_type": "code",
   "execution_count": 14,
   "metadata": {
    "collapsed": false
   },
   "outputs": [
    {
     "data": {
      "text/plain": [
       "0.6224184813880769"
      ]
     },
     "execution_count": 14,
     "metadata": {},
     "output_type": "execute_result"
    }
   ],
   "source": [
    "len(labeled['name_feat'].unique()) / len(labeled['name_feat'])"
   ]
  },
  {
   "cell_type": "code",
   "execution_count": 15,
   "metadata": {
    "collapsed": false
   },
   "outputs": [
    {
     "name": "stderr",
     "output_type": "stream",
     "text": [
      "/Users/vikaschhillar/anaconda/lib/python3.6/site-packages/ipykernel/__main__.py:1: SettingWithCopyWarning: \n",
      "A value is trying to be set on a copy of a slice from a DataFrame\n",
      "\n",
      "See the caveats in the documentation: http://pandas.pydata.org/pandas-docs/stable/indexing.html#indexing-view-versus-copy\n",
      "  if __name__ == '__main__':\n"
     ]
    }
   ],
   "source": [
    "labeled.drop(['name_feat'], axis='columns', inplace=True)\n"
   ]
  },
  {
   "cell_type": "code",
   "execution_count": 16,
   "metadata": {
    "collapsed": false
   },
   "outputs": [
    {
     "data": {
      "text/html": [
       "<div>\n",
       "<table border=\"1\" class=\"dataframe\">\n",
       "  <thead>\n",
       "    <tr style=\"text-align: right;\">\n",
       "      <th></th>\n",
       "      <th>price</th>\n",
       "      <th>yearOfRegistration</th>\n",
       "      <th>powerPS</th>\n",
       "      <th>kilometer</th>\n",
       "      <th>monthOfRegistration</th>\n",
       "      <th>namelen</th>\n",
       "      <th>gearbox_feat</th>\n",
       "      <th>notRepairedDamage_feat</th>\n",
       "      <th>model_feat</th>\n",
       "      <th>brand_feat</th>\n",
       "      <th>fuelType_feat</th>\n",
       "      <th>vehicleType_feat</th>\n",
       "    </tr>\n",
       "  </thead>\n",
       "  <tbody>\n",
       "    <tr>\n",
       "      <th>price</th>\n",
       "      <td>1.000000</td>\n",
       "      <td>0.385264</td>\n",
       "      <td>0.573037</td>\n",
       "      <td>-0.444440</td>\n",
       "      <td>0.044782</td>\n",
       "      <td>0.186254</td>\n",
       "      <td>-0.297746</td>\n",
       "      <td>-0.002440</td>\n",
       "      <td>-0.012514</td>\n",
       "      <td>-0.105694</td>\n",
       "      <td>0.055978</td>\n",
       "      <td>-0.010906</td>\n",
       "    </tr>\n",
       "    <tr>\n",
       "      <th>yearOfRegistration</th>\n",
       "      <td>0.385264</td>\n",
       "      <td>1.000000</td>\n",
       "      <td>0.186486</td>\n",
       "      <td>-0.333933</td>\n",
       "      <td>0.044390</td>\n",
       "      <td>0.158798</td>\n",
       "      <td>-0.094694</td>\n",
       "      <td>-0.015699</td>\n",
       "      <td>0.041173</td>\n",
       "      <td>-0.044526</td>\n",
       "      <td>0.142402</td>\n",
       "      <td>0.058958</td>\n",
       "    </tr>\n",
       "    <tr>\n",
       "      <th>powerPS</th>\n",
       "      <td>0.573037</td>\n",
       "      <td>0.186486</td>\n",
       "      <td>1.000000</td>\n",
       "      <td>-0.014727</td>\n",
       "      <td>0.038635</td>\n",
       "      <td>0.106243</td>\n",
       "      <td>-0.447440</td>\n",
       "      <td>-0.022761</td>\n",
       "      <td>-0.132902</td>\n",
       "      <td>-0.310254</td>\n",
       "      <td>0.086305</td>\n",
       "      <td>0.112243</td>\n",
       "    </tr>\n",
       "    <tr>\n",
       "      <th>kilometer</th>\n",
       "      <td>-0.444440</td>\n",
       "      <td>-0.333933</td>\n",
       "      <td>-0.014727</td>\n",
       "      <td>1.000000</td>\n",
       "      <td>-0.016177</td>\n",
       "      <td>-0.105892</td>\n",
       "      <td>0.035524</td>\n",
       "      <td>0.005072</td>\n",
       "      <td>-0.023827</td>\n",
       "      <td>-0.026645</td>\n",
       "      <td>0.115204</td>\n",
       "      <td>0.043183</td>\n",
       "    </tr>\n",
       "    <tr>\n",
       "      <th>monthOfRegistration</th>\n",
       "      <td>0.044782</td>\n",
       "      <td>0.044390</td>\n",
       "      <td>0.038635</td>\n",
       "      <td>-0.016177</td>\n",
       "      <td>1.000000</td>\n",
       "      <td>0.044338</td>\n",
       "      <td>-0.049902</td>\n",
       "      <td>-0.050227</td>\n",
       "      <td>-0.009070</td>\n",
       "      <td>-0.012156</td>\n",
       "      <td>-0.035938</td>\n",
       "      <td>-0.004369</td>\n",
       "    </tr>\n",
       "    <tr>\n",
       "      <th>namelen</th>\n",
       "      <td>0.186254</td>\n",
       "      <td>0.158798</td>\n",
       "      <td>0.106243</td>\n",
       "      <td>-0.105892</td>\n",
       "      <td>0.044338</td>\n",
       "      <td>1.000000</td>\n",
       "      <td>-0.150795</td>\n",
       "      <td>-0.008167</td>\n",
       "      <td>0.078520</td>\n",
       "      <td>0.100056</td>\n",
       "      <td>0.043864</td>\n",
       "      <td>-0.026672</td>\n",
       "    </tr>\n",
       "    <tr>\n",
       "      <th>gearbox_feat</th>\n",
       "      <td>-0.297746</td>\n",
       "      <td>-0.094694</td>\n",
       "      <td>-0.447440</td>\n",
       "      <td>0.035524</td>\n",
       "      <td>-0.049902</td>\n",
       "      <td>-0.150795</td>\n",
       "      <td>1.000000</td>\n",
       "      <td>0.038948</td>\n",
       "      <td>0.046971</td>\n",
       "      <td>0.125735</td>\n",
       "      <td>-0.057441</td>\n",
       "      <td>-0.092224</td>\n",
       "    </tr>\n",
       "    <tr>\n",
       "      <th>notRepairedDamage_feat</th>\n",
       "      <td>-0.002440</td>\n",
       "      <td>-0.015699</td>\n",
       "      <td>-0.022761</td>\n",
       "      <td>0.005072</td>\n",
       "      <td>-0.050227</td>\n",
       "      <td>-0.008167</td>\n",
       "      <td>0.038948</td>\n",
       "      <td>1.000000</td>\n",
       "      <td>0.017825</td>\n",
       "      <td>0.016474</td>\n",
       "      <td>0.061819</td>\n",
       "      <td>0.027220</td>\n",
       "    </tr>\n",
       "    <tr>\n",
       "      <th>model_feat</th>\n",
       "      <td>-0.012514</td>\n",
       "      <td>0.041173</td>\n",
       "      <td>-0.132902</td>\n",
       "      <td>-0.023827</td>\n",
       "      <td>-0.009070</td>\n",
       "      <td>0.078520</td>\n",
       "      <td>0.046971</td>\n",
       "      <td>0.017825</td>\n",
       "      <td>1.000000</td>\n",
       "      <td>0.472098</td>\n",
       "      <td>0.049058</td>\n",
       "      <td>-0.136196</td>\n",
       "    </tr>\n",
       "    <tr>\n",
       "      <th>brand_feat</th>\n",
       "      <td>-0.105694</td>\n",
       "      <td>-0.044526</td>\n",
       "      <td>-0.310254</td>\n",
       "      <td>-0.026645</td>\n",
       "      <td>-0.012156</td>\n",
       "      <td>0.100056</td>\n",
       "      <td>0.125735</td>\n",
       "      <td>0.016474</td>\n",
       "      <td>0.472098</td>\n",
       "      <td>1.000000</td>\n",
       "      <td>-0.023840</td>\n",
       "      <td>-0.102601</td>\n",
       "    </tr>\n",
       "    <tr>\n",
       "      <th>fuelType_feat</th>\n",
       "      <td>0.055978</td>\n",
       "      <td>0.142402</td>\n",
       "      <td>0.086305</td>\n",
       "      <td>0.115204</td>\n",
       "      <td>-0.035938</td>\n",
       "      <td>0.043864</td>\n",
       "      <td>-0.057441</td>\n",
       "      <td>0.061819</td>\n",
       "      <td>0.049058</td>\n",
       "      <td>-0.023840</td>\n",
       "      <td>1.000000</td>\n",
       "      <td>0.090201</td>\n",
       "    </tr>\n",
       "    <tr>\n",
       "      <th>vehicleType_feat</th>\n",
       "      <td>-0.010906</td>\n",
       "      <td>0.058958</td>\n",
       "      <td>0.112243</td>\n",
       "      <td>0.043183</td>\n",
       "      <td>-0.004369</td>\n",
       "      <td>-0.026672</td>\n",
       "      <td>-0.092224</td>\n",
       "      <td>0.027220</td>\n",
       "      <td>-0.136196</td>\n",
       "      <td>-0.102601</td>\n",
       "      <td>0.090201</td>\n",
       "      <td>1.000000</td>\n",
       "    </tr>\n",
       "  </tbody>\n",
       "</table>\n",
       "</div>"
      ],
      "text/plain": [
       "                           price  yearOfRegistration   powerPS  kilometer  \\\n",
       "price                   1.000000            0.385264  0.573037  -0.444440   \n",
       "yearOfRegistration      0.385264            1.000000  0.186486  -0.333933   \n",
       "powerPS                 0.573037            0.186486  1.000000  -0.014727   \n",
       "kilometer              -0.444440           -0.333933 -0.014727   1.000000   \n",
       "monthOfRegistration     0.044782            0.044390  0.038635  -0.016177   \n",
       "namelen                 0.186254            0.158798  0.106243  -0.105892   \n",
       "gearbox_feat           -0.297746           -0.094694 -0.447440   0.035524   \n",
       "notRepairedDamage_feat -0.002440           -0.015699 -0.022761   0.005072   \n",
       "model_feat             -0.012514            0.041173 -0.132902  -0.023827   \n",
       "brand_feat             -0.105694           -0.044526 -0.310254  -0.026645   \n",
       "fuelType_feat           0.055978            0.142402  0.086305   0.115204   \n",
       "vehicleType_feat       -0.010906            0.058958  0.112243   0.043183   \n",
       "\n",
       "                        monthOfRegistration   namelen  gearbox_feat  \\\n",
       "price                              0.044782  0.186254     -0.297746   \n",
       "yearOfRegistration                 0.044390  0.158798     -0.094694   \n",
       "powerPS                            0.038635  0.106243     -0.447440   \n",
       "kilometer                         -0.016177 -0.105892      0.035524   \n",
       "monthOfRegistration                1.000000  0.044338     -0.049902   \n",
       "namelen                            0.044338  1.000000     -0.150795   \n",
       "gearbox_feat                      -0.049902 -0.150795      1.000000   \n",
       "notRepairedDamage_feat            -0.050227 -0.008167      0.038948   \n",
       "model_feat                        -0.009070  0.078520      0.046971   \n",
       "brand_feat                        -0.012156  0.100056      0.125735   \n",
       "fuelType_feat                     -0.035938  0.043864     -0.057441   \n",
       "vehicleType_feat                  -0.004369 -0.026672     -0.092224   \n",
       "\n",
       "                        notRepairedDamage_feat  model_feat  brand_feat  \\\n",
       "price                                -0.002440   -0.012514   -0.105694   \n",
       "yearOfRegistration                   -0.015699    0.041173   -0.044526   \n",
       "powerPS                              -0.022761   -0.132902   -0.310254   \n",
       "kilometer                             0.005072   -0.023827   -0.026645   \n",
       "monthOfRegistration                  -0.050227   -0.009070   -0.012156   \n",
       "namelen                              -0.008167    0.078520    0.100056   \n",
       "gearbox_feat                          0.038948    0.046971    0.125735   \n",
       "notRepairedDamage_feat                1.000000    0.017825    0.016474   \n",
       "model_feat                            0.017825    1.000000    0.472098   \n",
       "brand_feat                            0.016474    0.472098    1.000000   \n",
       "fuelType_feat                         0.061819    0.049058   -0.023840   \n",
       "vehicleType_feat                      0.027220   -0.136196   -0.102601   \n",
       "\n",
       "                        fuelType_feat  vehicleType_feat  \n",
       "price                        0.055978         -0.010906  \n",
       "yearOfRegistration           0.142402          0.058958  \n",
       "powerPS                      0.086305          0.112243  \n",
       "kilometer                    0.115204          0.043183  \n",
       "monthOfRegistration         -0.035938         -0.004369  \n",
       "namelen                      0.043864         -0.026672  \n",
       "gearbox_feat                -0.057441         -0.092224  \n",
       "notRepairedDamage_feat       0.061819          0.027220  \n",
       "model_feat                   0.049058         -0.136196  \n",
       "brand_feat                  -0.023840         -0.102601  \n",
       "fuelType_feat                1.000000          0.090201  \n",
       "vehicleType_feat             0.090201          1.000000  "
      ]
     },
     "execution_count": 16,
     "metadata": {},
     "output_type": "execute_result"
    }
   ],
   "source": [
    "plot_correlation_map(labeled)\n",
    "labeled.corr()"
   ]
  },
  {
   "cell_type": "code",
   "execution_count": 17,
   "metadata": {
    "collapsed": false
   },
   "outputs": [
    {
     "data": {
      "text/plain": [
       "powerPS                   0.573037\n",
       "kilometer                 0.444440\n",
       "yearOfRegistration        0.385264\n",
       "gearbox_feat              0.297746\n",
       "namelen                   0.186254\n",
       "brand_feat                0.105694\n",
       "fuelType_feat             0.055978\n",
       "monthOfRegistration       0.044782\n",
       "model_feat                0.012514\n",
       "vehicleType_feat          0.010906\n",
       "notRepairedDamage_feat    0.002440\n",
       "Name: price, dtype: float64"
      ]
     },
     "execution_count": 17,
     "metadata": {},
     "output_type": "execute_result"
    }
   ],
   "source": [
    "labeled.corr().loc[:,'price'].abs().sort_values(ascending=False)[1:]"
   ]
  },
  {
   "cell_type": "code",
   "execution_count": 18,
   "metadata": {
    "collapsed": true
   },
   "outputs": [],
   "source": [
    "Y = labeled['price']\n",
    "X = labeled.drop(['price'], axis='columns', inplace=False)\n",
    "\n",
    "\n",
    "matplotlib.rcParams['figure.figsize'] = (12.0, 6.0)\n",
    "prices = pd.DataFrame({\"1. Before\":Y, \"2. After\":np.log1p(Y)})\n",
    "prices.hist()\n",
    "\n",
    "Y = np.log1p(Y)\n"
   ]
  },
  {
   "cell_type": "code",
   "execution_count": 19,
   "metadata": {
    "collapsed": false
   },
   "outputs": [
    {
     "name": "stdout",
     "output_type": "stream",
     "text": [
      "(203769, 11) (100364, 11) (203769,) (100364,)\n"
     ]
    }
   ],
   "source": [
    "from sklearn.linear_model import Ridge, RidgeCV, ElasticNet, Lasso, LassoCV, LassoLarsCV\n",
    "from sklearn.model_selection import cross_val_score, train_test_split\n",
    "\n",
    "def cv_rmse(model, x, y):\n",
    "    r = np.sqrt(-cross_val_score(model, x, y, scoring=\"neg_mean_squared_error\", cv = 5))\n",
    "    return r\n",
    "\n",
    "# Percent of the X array to use as training set. This implies that the rest will be test set\n",
    "test_size = .33\n",
    "\n",
    "#Split into train and validation\n",
    "X_train, X_val, y_train, y_val = train_test_split(X, Y, test_size=test_size, random_state = 3)\n",
    "print(X_train.shape, X_val.shape, y_train.shape, y_val.shape)\n",
    "\n",
    "r = range(2003, 2017)\n",
    "km_year = 10000"
   ]
  },
  {
   "cell_type": "code",
   "execution_count": 20,
   "metadata": {
    "collapsed": false
   },
   "outputs": [
    {
     "name": "stdout",
     "output_type": "stream",
     "text": [
      "Fitting 2 folds for each of 1 candidates, totalling 2 fits\n"
     ]
    },
    {
     "name": "stderr",
     "output_type": "stream",
     "text": [
      "[Parallel(n_jobs=-1)]: Done   2 out of   2 | elapsed:  2.5min finished\n"
     ]
    }
   ],
   "source": [
    "from sklearn.ensemble import RandomForestRegressor\n",
    "from sklearn.model_selection import GridSearchCV\n",
    "\n",
    "rf = RandomForestRegressor()\n",
    "\n",
    "param_grid = { \"criterion\" : [\"mse\"]\n",
    "              , \"min_samples_leaf\" : [3]\n",
    "              , \"min_samples_split\" : [3]\n",
    "              , \"max_depth\": [10]\n",
    "              , \"n_estimators\": [500]}\n",
    "\n",
    "gs = GridSearchCV(estimator=rf, param_grid=param_grid, cv=2, n_jobs=-1, verbose=1)\n",
    "gs = gs.fit(X_train, y_train)"
   ]
  },
  {
   "cell_type": "code",
   "execution_count": 21,
   "metadata": {
    "collapsed": false
   },
   "outputs": [
    {
     "name": "stdout",
     "output_type": "stream",
     "text": [
      "0.827712103508\n",
      "{'criterion': 'mse', 'max_depth': 10, 'min_samples_leaf': 3, 'min_samples_split': 3, 'n_estimators': 500}\n"
     ]
    }
   ],
   "source": [
    "print(gs.best_score_)\n",
    "print(gs.best_params_)\n",
    " "
   ]
  },
  {
   "cell_type": "code",
   "execution_count": 22,
   "metadata": {
    "collapsed": false
   },
   "outputs": [
    {
     "name": "stdout",
     "output_type": "stream",
     "text": [
      "Score: 0.83\n"
     ]
    }
   ],
   "source": [
    "bp = gs.best_params_\n",
    "forest = RandomForestRegressor(criterion=bp['criterion'],\n",
    "                              min_samples_leaf=bp['min_samples_leaf'],\n",
    "                              min_samples_split=bp['min_samples_split'],\n",
    "                              max_depth=bp['max_depth'],\n",
    "                              n_estimators=bp['n_estimators'])\n",
    "forest.fit(X_train, y_train)\n",
    "# Explained variance score: 1 is perfect prediction\n",
    "print('Score: %.2f' % forest.score(X_val, y_val))"
   ]
  },
  {
   "cell_type": "code",
   "execution_count": 35,
   "metadata": {
    "collapsed": false
   },
   "outputs": [
    {
     "name": "stdout",
     "output_type": "stream",
     "text": [
      "Feature ranking:\n",
      "1. feature 0 (0.647206)\n",
      "2. feature 1 (0.242355)\n",
      "3. feature 6 (0.036250)\n",
      "4. feature 10 (0.027237)\n",
      "5. feature 8 (0.018246)\n",
      "6. feature 2 (0.016361)\n",
      "7. feature 7 (0.007608)\n",
      "8. feature 4 (0.001633)\n",
      "9. feature 3 (0.001424)\n",
      "10. feature 9 (0.001031)\n",
      "11. feature 5 (0.000648)\n",
      "['yearOfRegistration' 'powerPS' 'kilometer' 'monthOfRegistration' 'namelen'\n",
      " 'gearbox_feat' 'notRepairedDamage_feat' 'model_feat' 'brand_feat'\n",
      " 'fuelType_feat' 'vehicleType_feat']\n"
     ]
    },
    {
     "data": {
      "image/png": "[encoded data removed]",
      "text/plain": [
       "<matplotlib.figure.Figure at 0x11b260eb8>"
      ]
     },
     "metadata": {},
     "output_type": "display_data"
    }
   ],
   "source": [
    "importances = forest.feature_importances_\n",
    "std = np.std([tree.feature_importances_ for tree in forest.estimators_],\n",
    "             axis=0)\n",
    "indices = np.argsort(importances)[::-1]\n",
    "# Print the feature ranking\n",
    "print(\"Feature ranking:\")\n",
    "\n",
    "for f in range(X.shape[1]):\n",
    "    print(\"%d. feature %d (%f)\" % (f + 1, indices[f], importances[indices[f]]))\n",
    "\n",
    "print(X_train.columns.values)\n",
    "# Plot the feature importances of the forest\n",
    "plt.figure()\n",
    "plt.title(\"Feature importances\")\n",
    "plt.bar(range(X.shape[1]), importances[indices],\n",
    "       color=\"y\", yerr=std[indices], align=\"center\",tick_label = X_train.columns.values)\n",
    "plt.xticks(range(X.shape[1]), indices)\n",
    "plt.xlim([-1, X.shape[1]])\n",
    "plt.show()"
   ]
  },
  {
   "cell_type": "code",
   "execution_count": null,
   "metadata": {
    "collapsed": true
   },
   "outputs": [],
   "source": []
  },
  {
   "cell_type": "code",
   "execution_count": null,
   "metadata": {
    "collapsed": true
   },
   "outputs": [],
   "source": []
  }
 ],
 "metadata": {
  "kernelspec": {
   "display_name": "Python 3",
   "language": "python",
   "name": "python3"
  },
  "language_info": {
   "codemirror_mode": {
    "name": "ipython",
    "version": 3
   },
   "file_extension": ".py",
   "mimetype": "text/x-python",
   "name": "python",
   "nbconvert_exporter": "python",
   "pygments_lexer": "ipython3",
   "version": "3.6.0"
  }
 },
 "nbformat": 4,
 "nbformat_minor": 2
}
